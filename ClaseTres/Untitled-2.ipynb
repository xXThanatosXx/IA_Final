{
 "cells": [
  {
   "cell_type": "markdown",
   "metadata": {},
   "source": [
    "# Manejo de Variables "
   ]
  },
  {
   "cell_type": "code",
   "execution_count": 41,
   "metadata": {},
   "outputs": [
    {
     "name": "stdout",
     "output_type": "stream",
     "text": [
      "['a', 'b', '1', 1.8]\n"
     ]
    }
   ],
   "source": [
    "#variable entera\n",
    "# variable_int = 12\n",
    "# print(variable_int)\n",
    "# print(\"seccion uno\")\n",
    "my_string = \"thisStringisAwesome\"\n",
    "s = 10\n",
    "my_string.upper()\n",
    "my_string.lower()\n",
    "my_string.count(\"th\")\n",
    "my_string.replace(\"txis\",\"those\")\n",
    "\n",
    "my_string_dos = \"texto dos\"\n",
    "\n",
    "#concatenar (+)\n",
    "my_string + my_string_dos\n",
    "\n",
    "'ms' in my_string \n",
    "#lista [ ]\n",
    "lista = [\"a\",\"b\",\"1\",1.8]\n",
    "\n",
    "# print(type(lista[1:2]))\n",
    "\n",
    "print(lista[0:6])\n"
   ]
  },
  {
   "cell_type": "code",
   "execution_count": 5,
   "metadata": {},
   "outputs": [
    {
     "name": "stdout",
     "output_type": "stream",
     "text": [
      "thisStringisAwesome\n"
     ]
    }
   ],
   "source": [
    "my_string = \"thisStringisAwesome\"\n",
    "my_string.upper()\n",
    "print(my_string)\n"
   ]
  }
 ],
 "metadata": {
  "kernelspec": {
   "display_name": "Python 3",
   "language": "python",
   "name": "python3"
  },
  "language_info": {
   "codemirror_mode": {
    "name": "ipython",
    "version": 3
   },
   "file_extension": ".py",
   "mimetype": "text/x-python",
   "name": "python",
   "nbconvert_exporter": "python",
   "pygments_lexer": "ipython3",
   "version": "3.9.6"
  }
 },
 "nbformat": 4,
 "nbformat_minor": 2
}
